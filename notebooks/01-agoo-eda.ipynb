{
 "cells": [
  {
   "cell_type": "code",
   "execution_count": 1,
   "metadata": {},
   "outputs": [],
   "source": [
    "import numpy as np\n",
    "import pandas as pd\n",
    "import matplotlib.pyplot as plt\n",
    "import seaborn as sns\n",
    "\n",
    "from pathlib import Path\n",
    "import wfm\n",
    "\n",
    "%matplotlib inline\n",
    "%load_ext autoreload\n",
    "%autoreload 2"
   ]
  },
  {
   "cell_type": "code",
   "execution_count": 2,
   "metadata": {},
   "outputs": [],
   "source": [
    "path = Path().resolve().parent\n",
    "input_path = path / \"data\" / \"input\""
   ]
  },
  {
   "cell_type": "code",
   "execution_count": 3,
   "metadata": {},
   "outputs": [
    {
     "data": {
      "text/html": [
       "<div>\n",
       "<style scoped>\n",
       "    .dataframe tbody tr th:only-of-type {\n",
       "        vertical-align: middle;\n",
       "    }\n",
       "\n",
       "    .dataframe tbody tr th {\n",
       "        vertical-align: top;\n",
       "    }\n",
       "\n",
       "    .dataframe thead th {\n",
       "        text-align: right;\n",
       "    }\n",
       "</style>\n",
       "<table border=\"1\" class=\"dataframe\">\n",
       "  <thead>\n",
       "    <tr style=\"text-align: right;\">\n",
       "      <th></th>\n",
       "      <th>wildfire</th>\n",
       "      <th>id</th>\n",
       "      <th>año</th>\n",
       "      <th>material</th>\n",
       "      <th>npisos</th>\n",
       "      <th>h_viv</th>\n",
       "      <th>n_daño</th>\n",
       "      <th>orientacio</th>\n",
       "      <th>elevación</th>\n",
       "      <th>pendiente</th>\n",
       "      <th>...</th>\n",
       "      <th>fact_agua</th>\n",
       "      <th>n_conjman</th>\n",
       "      <th>d_conj_man</th>\n",
       "      <th>n_conj10m</th>\n",
       "      <th>d_conj_10m</th>\n",
       "      <th>n_conj20m</th>\n",
       "      <th>d_conj_20m</th>\n",
       "      <th>cord_x</th>\n",
       "      <th>cord_y</th>\n",
       "      <th>geometry</th>\n",
       "    </tr>\n",
       "  </thead>\n",
       "  <tbody>\n",
       "    <tr>\n",
       "      <th>0</th>\n",
       "      <td>Limache</td>\n",
       "      <td>0</td>\n",
       "      <td>1978.0</td>\n",
       "      <td>Sólido</td>\n",
       "      <td>1.0</td>\n",
       "      <td>2.5</td>\n",
       "      <td>Ninguno</td>\n",
       "      <td>E</td>\n",
       "      <td>67.4828</td>\n",
       "      <td>11.326300</td>\n",
       "      <td>...</td>\n",
       "      <td>No</td>\n",
       "      <td>6</td>\n",
       "      <td>10.0000</td>\n",
       "      <td>13</td>\n",
       "      <td>10.0000</td>\n",
       "      <td>4</td>\n",
       "      <td>20.0000</td>\n",
       "      <td>291295.0</td>\n",
       "      <td>6347530.0</td>\n",
       "      <td>POLYGON ((291288.520 6347524.396, 291294.786 6...</td>\n",
       "    </tr>\n",
       "    <tr>\n",
       "      <th>1</th>\n",
       "      <td>Limache</td>\n",
       "      <td>0</td>\n",
       "      <td>2004.0</td>\n",
       "      <td>Liviano</td>\n",
       "      <td>1.0</td>\n",
       "      <td>2.5</td>\n",
       "      <td>Ninguno</td>\n",
       "      <td>E</td>\n",
       "      <td>67.9629</td>\n",
       "      <td>10.550100</td>\n",
       "      <td>...</td>\n",
       "      <td>No</td>\n",
       "      <td>6</td>\n",
       "      <td>10.0000</td>\n",
       "      <td>13</td>\n",
       "      <td>10.0000</td>\n",
       "      <td>4</td>\n",
       "      <td>20.0000</td>\n",
       "      <td>291301.0</td>\n",
       "      <td>6347550.0</td>\n",
       "      <td>POLYGON ((291298.638 6347547.595, 291299.696 6...</td>\n",
       "    </tr>\n",
       "    <tr>\n",
       "      <th>2</th>\n",
       "      <td>Limache</td>\n",
       "      <td>0</td>\n",
       "      <td>2009.0</td>\n",
       "      <td>Liviano</td>\n",
       "      <td>1.0</td>\n",
       "      <td>2.5</td>\n",
       "      <td>Ninguno</td>\n",
       "      <td>E</td>\n",
       "      <td>64.9530</td>\n",
       "      <td>10.819000</td>\n",
       "      <td>...</td>\n",
       "      <td>No</td>\n",
       "      <td>6</td>\n",
       "      <td>10.0000</td>\n",
       "      <td>13</td>\n",
       "      <td>10.0000</td>\n",
       "      <td>4</td>\n",
       "      <td>20.0000</td>\n",
       "      <td>291300.0</td>\n",
       "      <td>6347520.0</td>\n",
       "      <td>POLYGON ((291298.469 6347519.147, 291300.967 6...</td>\n",
       "    </tr>\n",
       "    <tr>\n",
       "      <th>3</th>\n",
       "      <td>Limache</td>\n",
       "      <td>0</td>\n",
       "      <td>1978.0</td>\n",
       "      <td>Liviano</td>\n",
       "      <td>1.0</td>\n",
       "      <td>2.5</td>\n",
       "      <td>Ninguno</td>\n",
       "      <td>E</td>\n",
       "      <td>61.4631</td>\n",
       "      <td>0.953306</td>\n",
       "      <td>...</td>\n",
       "      <td>No</td>\n",
       "      <td>6</td>\n",
       "      <td>10.0000</td>\n",
       "      <td>12</td>\n",
       "      <td>10.0000</td>\n",
       "      <td>4</td>\n",
       "      <td>20.0000</td>\n",
       "      <td>291334.0</td>\n",
       "      <td>6347500.0</td>\n",
       "      <td>POLYGON ((291329.666 6347502.326, 291340.503 6...</td>\n",
       "    </tr>\n",
       "    <tr>\n",
       "      <th>4</th>\n",
       "      <td>Limache</td>\n",
       "      <td>0</td>\n",
       "      <td>1978.0</td>\n",
       "      <td>Sólido</td>\n",
       "      <td>1.0</td>\n",
       "      <td>2.5</td>\n",
       "      <td>Ninguno</td>\n",
       "      <td>E</td>\n",
       "      <td>61.5823</td>\n",
       "      <td>0.693135</td>\n",
       "      <td>...</td>\n",
       "      <td>No</td>\n",
       "      <td>6</td>\n",
       "      <td>23.5041</td>\n",
       "      <td>12</td>\n",
       "      <td>23.5041</td>\n",
       "      <td>4</td>\n",
       "      <td>37.6067</td>\n",
       "      <td>291371.0</td>\n",
       "      <td>6347510.0</td>\n",
       "      <td>POLYGON ((291363.407 6347527.937, 291365.271 6...</td>\n",
       "    </tr>\n",
       "  </tbody>\n",
       "</table>\n",
       "<p>5 rows × 31 columns</p>\n",
       "</div>"
      ],
      "text/plain": [
       "  wildfire  id     año material  npisos  h_viv   n_daño orientacio  elevación  \\\n",
       "0  Limache   0  1978.0   Sólido     1.0    2.5  Ninguno          E    67.4828   \n",
       "1  Limache   0  2004.0  Liviano     1.0    2.5  Ninguno          E    67.9629   \n",
       "2  Limache   0  2009.0  Liviano     1.0    2.5  Ninguno          E    64.9530   \n",
       "3  Limache   0  1978.0  Liviano     1.0    2.5  Ninguno          E    61.4631   \n",
       "4  Limache   0  1978.0   Sólido     1.0    2.5  Ninguno          E    61.5823   \n",
       "\n",
       "   pendiente  ...  fact_agua  n_conjman  d_conj_man  n_conj10m d_conj_10m  \\\n",
       "0  11.326300  ...         No          6     10.0000         13    10.0000   \n",
       "1  10.550100  ...         No          6     10.0000         13    10.0000   \n",
       "2  10.819000  ...         No          6     10.0000         13    10.0000   \n",
       "3   0.953306  ...         No          6     10.0000         12    10.0000   \n",
       "4   0.693135  ...         No          6     23.5041         12    23.5041   \n",
       "\n",
       "   n_conj20m  d_conj_20m    cord_x     cord_y  \\\n",
       "0          4     20.0000  291295.0  6347530.0   \n",
       "1          4     20.0000  291301.0  6347550.0   \n",
       "2          4     20.0000  291300.0  6347520.0   \n",
       "3          4     20.0000  291334.0  6347500.0   \n",
       "4          4     37.6067  291371.0  6347510.0   \n",
       "\n",
       "                                            geometry  \n",
       "0  POLYGON ((291288.520 6347524.396, 291294.786 6...  \n",
       "1  POLYGON ((291298.638 6347547.595, 291299.696 6...  \n",
       "2  POLYGON ((291298.469 6347519.147, 291300.967 6...  \n",
       "3  POLYGON ((291329.666 6347502.326, 291340.503 6...  \n",
       "4  POLYGON ((291363.407 6347527.937, 291365.271 6...  \n",
       "\n",
       "[5 rows x 31 columns]"
      ]
     },
     "execution_count": 3,
     "metadata": {},
     "output_type": "execute_result"
    }
   ],
   "source": [
    "input_data = wfm.preprocessing.get_input_data(input_path)\n",
    "input_data.head()"
   ]
  },
  {
   "cell_type": "code",
   "execution_count": null,
   "metadata": {},
   "outputs": [],
   "source": [
    "input_data.loc[lambda x: x[\"\"]]"
   ]
  },
  {
   "cell_type": "code",
   "execution_count": 11,
   "metadata": {},
   "outputs": [],
   "source": [
    "df_dict = wfm.preprocessing.get_buildings(input_path)"
   ]
  },
  {
   "cell_type": "code",
   "execution_count": 14,
   "metadata": {},
   "outputs": [
    {
     "name": "stdout",
     "output_type": "stream",
     "text": [
      "Limache\n",
      "0\n",
      "Miraflores\n",
      "0\n",
      "Rocuant\n",
      "2\n",
      "Rodelillo\n",
      "0\n"
     ]
    }
   ],
   "source": [
    "for wildfire, df in df_dict.items():\n",
    "    print(wildfire)\n",
    "    print(df.duplicated(\"codigo_pol\").sum())"
   ]
  },
  {
   "cell_type": "code",
   "execution_count": null,
   "metadata": {},
   "outputs": [],
   "source": []
  },
  {
   "cell_type": "code",
   "execution_count": 5,
   "metadata": {},
   "outputs": [
    {
     "data": {
      "text/plain": [
       "Index(['wildfire', 'id', 'año', 'material', 'npisos', 'h_viv', 'n_daño',\n",
       "       'orientacio', 'elevación', 'pendiente', 'dist_veget', 'dist_foco',\n",
       "       'dist_estru', 'tamaño', 'codigo_pol', 'sup_viv_ha', 'raz_ocup',\n",
       "       'prep_vivie', 'mant_viv', 'acceso_equ', 'ac_supresi', 'fact_agua',\n",
       "       'n_conjman', 'd_conj_man', 'n_conj10m', 'd_conj_10m', 'n_conj20m',\n",
       "       'd_conj_20m', 'cord_x', 'cord_y', 'geometry'],\n",
       "      dtype='object')"
      ]
     },
     "execution_count": 5,
     "metadata": {},
     "output_type": "execute_result"
    }
   ],
   "source": [
    "input_data.columns"
   ]
  },
  {
   "cell_type": "code",
   "execution_count": 8,
   "metadata": {},
   "outputs": [
    {
     "data": {
      "text/plain": [
       "Rocuant       241\n",
       "Limache        30\n",
       "Rodelillo       6\n",
       "Miraflores      0\n",
       "Name: wildfire, dtype: int64"
      ]
     },
     "execution_count": 8,
     "metadata": {},
     "output_type": "execute_result"
    }
   ],
   "source": [
    "input_data.query(\"npisos == 0\").wildfire.value_counts()"
   ]
  },
  {
   "cell_type": "code",
   "execution_count": null,
   "metadata": {},
   "outputs": [],
   "source": [
    "g = sns.countplot(\n",
    "    df.sort_values(col),\n",
    "    x=col,\n",
    "    hue=TARGET_COLUMN,\n",
    "    hue_order=[\"Parcial\", \"Total\", \"Ninguno\"],\n",
    "    multiple=\"dodge\",\n",
    "    shrink=.8,\n",
    "    palette=\"Set2\",\n",
    "    legend=True,\n",
    ")\n",
    "g.get_legend().set_title(redable_target)"
   ]
  },
  {
   "cell_type": "code",
   "execution_count": null,
   "metadata": {},
   "outputs": [],
   "source": [
    "df = input_data.copy()"
   ]
  },
  {
   "cell_type": "code",
   "execution_count": null,
   "metadata": {},
   "outputs": [],
   "source": [
    "df[\"material\"].astype(object).unique()"
   ]
  },
  {
   "cell_type": "code",
   "execution_count": null,
   "metadata": {},
   "outputs": [],
   "source": [
    "df.loc[df[\"material\"].sort_values().index, :]"
   ]
  },
  {
   "cell_type": "code",
   "execution_count": null,
   "metadata": {},
   "outputs": [],
   "source": [
    "g = sns.catplot(\n",
    "    data=input_data,\n",
    "    kind=\"bar\",\n",
    "    x=\"material\",\n",
    "    y=, hue=\"sex\",\n",
    "    ci=\"sd\", palette=\"dark\", alpha=.6, height=6\n",
    ")\n",
    "g.despine(left=True)\n",
    "g.set_axis_labels(\"\", \"Body mass (g)\")\n",
    "g.legend.set_title(\"\")"
   ]
  },
  {
   "cell_type": "code",
   "execution_count": null,
   "metadata": {},
   "outputs": [],
   "source": [
    "df = input_data.fillna(\"N/A\").astype({col: \"category\" for col in wfm.CAT_COLUMNS})"
   ]
  },
  {
   "cell_type": "code",
   "execution_count": null,
   "metadata": {},
   "outputs": [],
   "source": [
    "input_data."
   ]
  },
  {
   "cell_type": "code",
   "execution_count": null,
   "metadata": {},
   "outputs": [],
   "source": [
    "type(ax)"
   ]
  },
  {
   "cell_type": "code",
   "execution_count": null,
   "metadata": {},
   "outputs": [],
   "source": [
    "g.get_legend()"
   ]
  },
  {
   "cell_type": "code",
   "execution_count": null,
   "metadata": {},
   "outputs": [],
   "source": [
    "dir(g)"
   ]
  },
  {
   "cell_type": "code",
   "execution_count": null,
   "metadata": {},
   "outputs": [],
   "source": [
    "# fig, ax = plt.subplots(figsize=(10, 8))\n",
    "g = sns.histplot(data=df, x=\"material\", hue=\"n_daño\", multiple=\"dodge\", shrink=.8)\n",
    "# g._legend.set_title(\"title\")\n",
    "g.get_legend().set_title(\"holi\")\n",
    "# legend.set_title(\"holi\n",
    "# ax.set_label(\"HOILI\")\n",
    "plt.show()"
   ]
  },
  {
   "cell_type": "code",
   "execution_count": null,
   "metadata": {},
   "outputs": [],
   "source": []
  },
  {
   "cell_type": "code",
   "execution_count": null,
   "metadata": {},
   "outputs": [],
   "source": [
    "ax"
   ]
  },
  {
   "cell_type": "code",
   "execution_count": null,
   "metadata": {},
   "outputs": [],
   "source": [
    "sns.pairplot(\n",
    "    input_data[wfm.NUM_COLUMNS + [wfm.TARGET_COLUMN]],\n",
    "    hue=wfm.TARGET_COLUMN,\n",
    "    diag_kind=\"hist\",\n",
    "    corner=True,\n",
    "    height=20,\n",
    "    palette=\"Set2\"\n",
    ")\n",
    "plt.title(f\"Pairplot variables numéricas\")\n",
    "plt.tight_layout()\n",
    "plt.savefig(images_path / f\"numeric_pairplot.png\")\n",
    "plt.show()"
   ]
  },
  {
   "cell_type": "code",
   "execution_count": null,
   "metadata": {},
   "outputs": [],
   "source": [
    "from itertools import permutations"
   ]
  },
  {
   "cell_type": "code",
   "execution_count": null,
   "metadata": {},
   "outputs": [],
   "source": [
    "a    print(col1, col2)"
   ]
  },
  {
   "cell_type": "code",
   "execution_count": null,
   "metadata": {},
   "outputs": [],
   "source": [
    "plt.figure(figsize=(8, 8))\n",
    "g = sns.scatterplot(\n",
    "    data=input_data,\n",
    "    x=col1,\n",
    "    y=col2,\n",
    "    hue=\"n_daño\",\n",
    "    linewidth=0,\n",
    "    alpha=.8\n",
    ")\n",
    "g.get_legend().set_title(redable_target)\n",
    "plt.xlabel(redable_col)\n",
    "plt.ylabel(\"Conteo\")\n",
    "plt.xticks(rotation=50.4, horizontalalignment=\"left\")\n",
    "plt.title(f\"Histograma de {redable_col} por {redable_target}\")\n",
    "plt.tight_layout()\n",
    "# plt.savefig(images_path / f\"histogram_{col}.png\")\n",
    "plt.show()"
   ]
  },
  {
   "cell_type": "code",
   "execution_count": null,
   "metadata": {},
   "outputs": [],
   "source": [
    "from string import ascii_letter"
   ]
  },
  {
   "cell_type": "code",
   "execution_count": null,
   "metadata": {},
   "outputs": [],
   "source": [
    "# Compute the correlation matrix\n",
    "corr = input_data[wfm.NUM_COLUMNS].corr()\n",
    "\n",
    "# Generate a mask for the upper triangle\n",
    "mask = np.triu(np.ones_like(corr, dtype=bool))\n",
    "\n",
    "# Set up the matplotlib figure\n",
    "# f, ax = plt.subplots(figsize=(20, 20))\n",
    "plt.figure(figsize=(20, 20))\n",
    "# Draw the heatmap with the mask and correct aspect ratio\n",
    "sns.heatmap(\n",
    "    corr,\n",
    "    mask=mask,\n",
    "    cmap=\"vlag\",\n",
    "    vmin=-1,\n",
    "    vmax=1,\n",
    "    center=0,\n",
    "    annot=True,\n",
    "    fmt=\".2f\",\n",
    "    square=True,\n",
    "    linewidths=.5,\n",
    "    cbar_kws={\"shrink\": .3}\n",
    ")\n",
    "\n",
    "plt.xticks(rotation=50.4, horizontalalignment=\"left\")\n",
    "plt.yticks(rotation=50.4, horizontalalignment=\"right\")\n",
    "plt.title(\"Correlación\")\n",
    "plt.tight_layout()"
   ]
  },
  {
   "cell_type": "code",
   "execution_count": null,
   "metadata": {},
   "outputs": [],
   "source": []
  }
 ],
 "metadata": {
  "kernelspec": {
   "display_name": "Python 3",
   "language": "python",
   "name": "python3"
  },
  "language_info": {
   "codemirror_mode": {
    "name": "ipython",
    "version": 3
   },
   "file_extension": ".py",
   "mimetype": "text/x-python",
   "name": "python",
   "nbconvert_exporter": "python",
   "pygments_lexer": "ipython3",
   "version": "3.8.6"
  }
 },
 "nbformat": 4,
 "nbformat_minor": 4
}
